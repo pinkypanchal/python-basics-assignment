{
  "nbformat": 4,
  "nbformat_minor": 0,
  "metadata": {
    "colab": {
      "provenance": []
    },
    "kernelspec": {
      "name": "python3",
      "display_name": "Python 3"
    },
    "language_info": {
      "name": "python"
    }
  },
  "cells": [
    {
      "cell_type": "markdown",
      "source": [
        "#**PYTHON BASICS ASSIGNMENT**\n"
      ],
      "metadata": {
        "id": "5_r1za5bTr2A"
      }
    },
    {
      "cell_type": "markdown",
      "source": [
        "**1. What is python, and why is it popular?**\n",
        "\n",
        "- Python is a programming language that is easy to understand and write, making it a popular choice among developers and programmers.\n",
        "\n",
        "- It is mainly known for its simplicity and readability.\n",
        "\n",
        "- Python is popular due to its versatility, extensive libraries, and frameworks, making it suitable for web development, data analysis, artificial intelligence, scientific computing, and automation.\n",
        "\n",
        "\n",
        "---\n",
        "\n"
      ],
      "metadata": {
        "id": "G2ery7QvTwoB"
      }
    },
    {
      "cell_type": "markdown",
      "source": [
        "**2. What is an interpreter in Python?**\n",
        "- A Python interpreter is a program that reads and immediately executes Python code, line-by-line or statement-by-statement. It offers features like interactive execution, platform independence, dynamic typing, error handling, and rapid development. Popular Python interpreters include CPython, PyPy, Jython, and IronPython.\n",
        "\n",
        "---\n",
        "\n"
      ],
      "metadata": {
        "id": "lQq5GBzNUYmI"
      }
    },
    {
      "cell_type": "markdown",
      "source": [
        "**3.  What are pre-defined keywords in Python?**\n",
        "\n",
        "- Keywords are reserved words in Python that have special meanings and cannot be used as identifiers (variable names, function names, etc.).\n",
        "\n",
        "- Examples of keywords include if, else, while, for, def, class, import, try, except, return, True, False, None, etc.\n",
        "\n",
        "---\n",
        "\n"
      ],
      "metadata": {
        "id": "bgpfmYySUwEI"
      }
    },
    {
      "cell_type": "markdown",
      "source": [
        "**4.  Can keywords be used as variable names?**\n",
        "\n",
        "- No, keywords in Python cannot be used as variable names. Since keywords have special meanings and functions in the language, using them as identifiers would lead to syntaxError.\n",
        "- For example, trying to name a variable if or class will result in a SyntaxError.\n",
        "\n",
        "---\n",
        "\n"
      ],
      "metadata": {
        "id": "2U6CxcQGVXdb"
      }
    },
    {
      "cell_type": "markdown",
      "source": [
        "**5. What is mutability in Python?**\n",
        "\n",
        "- In Python, mutability refers to the ability of an object to change its state or contents after it has been created. Mutable objects can be altered, while immutable objects cannot.\n",
        "- Examples of mutable objects include:\n",
        "\n",
        "  - Lists,\n",
        "  - Dictionaries,\n",
        "  - Sets.\n",
        "\n",
        "---\n",
        "\n"
      ],
      "metadata": {
        "id": "JbG4BLEBVp9_"
      }
    },
    {
      "cell_type": "markdown",
      "source": [
        "**6. Why are lists mutable, but tuples are immutable?**\n",
        "- Lists in Python are mutable, allowing modification of their contents (adding, changing, or removing elements) after creation, which is useful for frequently updated data.\n",
        "- In contrast, tuples are immutable; once created, their contents cannot be changed. This immutability offers benefits like better performance and memory efficiency, hashability (can be used as dictionary keys), and data integrity (prevents accidental modifications).\n",
        "\n",
        "---\n",
        "\n"
      ],
      "metadata": {
        "id": "1LMMTJneWKU0"
      }
    },
    {
      "cell_type": "markdown",
      "source": [
        "**7. What is the difference between “==” and “is” operators in Python?**\n",
        "- The == (equality) operator checks for value equality. It determines whether the values of two objects are equal.\n",
        "\n",
        "```\n",
        "a = [1, 2, 3]\n",
        "b = [1, 2, 3]\n",
        "print(a == b)  # Output: True (the values are the same)\n",
        "\n",
        "c = 5\n",
        "d = 5\n",
        "print(c == d)  # Output: True (the values are the same)\n",
        "```\n",
        "\n",
        "- The is operator checks for object identity. It determines whether two references point to the same object in memory.\n",
        "\n",
        "\n",
        "```\n",
        "a = [1, 2, 3]\n",
        "b = a  # b references the same list object as a\n",
        "print(a is b)  # Output: True (both refer to the same object)\n",
        "\n",
        "c = [1, 2, 3]\n",
        "d = [1, 2, 3]\n",
        "print(c is d)  # Output: False (c and d are different objects in memory)\n",
        "```\n",
        "\n",
        "\n",
        "---\n",
        "\n",
        "\n"
      ],
      "metadata": {
        "id": "Wc002BqQW0zN"
      }
    },
    {
      "cell_type": "markdown",
      "source": [
        "**8. What are logical operators in Python?**\n",
        "-   In Python, logical operators are used to combine conditional statements or expressions and evaluate whether they are True or False.\n",
        "\n",
        "- There are three primary logical operators:\n",
        "  \n",
        "1) and :\n",
        "- Returns True if both conditions are True.\n",
        "- Returns False if at least one of the conditions is False.\n",
        "\n",
        "\n",
        "\n",
        "```\n",
        "x = 5\n",
        "y = 10\n",
        "print(x > 3 and y < 15)  # True, because both conditions are true\n",
        "print(x > 3 and y > 15)  # False, because the second condition is false\n",
        "\n",
        "\n",
        "```\n",
        "2) or :\n",
        "   - Returns True if at least one of the conditions is True.\n",
        "   - Returns False only if both conditions are False.\n",
        "\n",
        "\n",
        "```\n",
        "x = 5\n",
        "y = 10\n",
        "print(x > 3 or y < 5)  # True, because the first condition is true\n",
        "print(x < 3 or y < 5)  # False, because both conditions are false\n",
        "\n",
        "```\n",
        "3) not :\n",
        "\n",
        "- Reverses the Boolean value of a condition.\n",
        "-It returns True if the condition is False and False if the condition is True.\n",
        "\n",
        "\n",
        "```\n",
        "x = 5\n",
        "print(not(x > 3))  # False, because x > 3 is true, and not reverses it\n",
        "print(not(x < 3))  # True, because x < 3 is false, and not reverses it\n",
        "\n",
        "```\n",
        "\n",
        "---\n",
        "\n"
      ],
      "metadata": {
        "id": "dzsrnvCVY4we"
      }
    },
    {
      "cell_type": "markdown",
      "source": [
        "**9. What is type casting in Python?**\n",
        "- Type casting in Python refers to the process of converting one data type to another.\n",
        "\n",
        "\n",
        "\n",
        "---\n",
        "\n",
        "\n"
      ],
      "metadata": {
        "id": "SHW4GUYcaTEd"
      }
    },
    {
      "cell_type": "markdown",
      "source": [
        "**10.What is the difference between implicit and explicit type casting?**\n",
        "- 1. Implicit Type Casting (Automatic Type Conversion) :\n",
        "\n",
        "Python automatically converts one data type to another when necessary, such as when a smaller data type is used in an operation with a larger data type.\n",
        "\n",
        "```\n",
        "x = 5     # int\n",
        "y = 2.5   # float\n",
        "result = x + y   # Result will be a float (7.5)\n",
        "print(result)    # Output: 7.5\n",
        "```\n",
        "2. Explicit Type Casting (Manual Type Conversion) :\n",
        "\n",
        "When you manually convert one data type to another using type conversion functions. This is done using functions like int(), float(), str(), etc.\n",
        "\n",
        "```\n",
        "x = \"10\"        # string\n",
        "y = 5.5         # float\n",
        "\n",
        "# Convert string to integer\n",
        "x = int(x)\n",
        "print(x)  # Output: 10\n",
        "```\n",
        "\n",
        "\n",
        "---\n",
        "\n"
      ],
      "metadata": {
        "id": "dhl-oOeabdG7"
      }
    },
    {
      "cell_type": "markdown",
      "source": [
        "**11. What is the purpose of conditional statements in Python?**\n",
        "\n",
        "- The purpose of conditional statements in Python is to:\n",
        "\n",
        "1. Enable Decision Making: Control the flow of execution based on conditions.\n",
        "2. Allow Branching: Execute different code paths depending on whether conditions are `True` or `False`.\n",
        "3. Create Dynamic Behavior: Respond to user input and changing states during program execution.\n",
        "4. Implement Logic and Rules: Enforce specific conditions and rules in data processing and application logic.\n",
        "5. Facilitate Error Handling: Check for valid inputs and navigate exceptions.\n",
        "\n",
        "\n",
        "\n",
        "---\n",
        "\n"
      ],
      "metadata": {
        "id": "kiBH726FbapP"
      }
    },
    {
      "cell_type": "markdown",
      "source": [
        "**12. How does the elif statement work?**\n",
        "-  The elif statement in Python allows you to check multiple conditions sequentially after an if statement. If the if condition is False, it evaluates the elif conditions in order. If an elif condition is True, its block executes, and the rest are skipped. If none are True, an optional else block can execute.\n",
        "\n",
        "- Example:\n",
        "\n",
        "```\n",
        "x = 10\n",
        "\n",
        "if x < 5:\n",
        "    print(\"x is less than 5\")\n",
        "elif x < 15:\n",
        "    print(\"x is between 5 and 15\")\n",
        "else:\n",
        "    print(\"x is 15 or more\")\n",
        "\n",
        " # Output: x is between 5 and 15.\n",
        "\n",
        "```\n",
        "\n",
        "\n",
        "---\n",
        "\n"
      ],
      "metadata": {
        "id": "mqa-ijXvdVpj"
      }
    },
    {
      "cell_type": "markdown",
      "source": [
        "**13. What is the difference between for and while loops?**\n",
        "- The difference between for and while loops is based on how they control the flow of execution:\n",
        "\n",
        "1. for loop:\n",
        "- Used to iterate over a sequence (like a list, tuple, string, or range).\n",
        "- Ideal when you know the number of iterations beforehand.\n",
        "- The loop stops automatically once the sequence is exhausted.\n",
        "- Example:\n",
        "\n",
        "\n",
        "```\n",
        "for i in range(5):  # Loops 5 times (i will take values 0, 1, 2, 3, 4)\n",
        "    print(i)\n",
        "#output:\n",
        "          0\n",
        "          1\n",
        "          2\n",
        "          3\n",
        "          4\n",
        "#The for loop iterates over the range 0 to 4 (5 iterations in total) and prints the value of i during each iteration.\n",
        "\n",
        "\n",
        "```\n",
        "\n",
        "\n",
        "2. while loop:\n",
        "- Executes as long as a specified condition is true.\n",
        "- Best used when the number of iterations is not known and depends on dynamic conditions.\n",
        "- Example:\n",
        "\n",
        "\n",
        "\n",
        "```\n",
        "# `while` loop example\n",
        "i = 0\n",
        "while i < 5:  # Continues looping as long as i is less than 5\n",
        "    print(i)\n",
        "    i += 1  # Increment i by 1 each time\n",
        "#output:  \n",
        "         0\n",
        "         1\n",
        "         2\n",
        "         3\n",
        "         4\n",
        "#The while loop starts with i = 0 and prints the value of i on each iteration.\n",
        "#The loop continues until i is no longer less than 5.\n",
        "#Each time, i is incremented by 1.\n",
        "\n",
        "\n",
        "\n",
        "```\n",
        "Key Differences:\n",
        "- The for loop is used when you have a specific range or sequence to iterate over.\n",
        "- The while loop continues as long as a condition remains True, and you often need to manually update the loop variable (like incrementing i in the example).\n",
        "\n",
        "---\n",
        "\n"
      ],
      "metadata": {
        "id": "HmyD88bPd56J"
      }
    },
    {
      "cell_type": "markdown",
      "source": [
        "**14)  Describe a scenario where a while loop is more suitable than a for loop.**\n",
        "- A while loop is more appropriate when you don't know in advance how many iterations will be needed, and the loop should continue until a specific condition is met. This is common when waiting for user input, monitoring ongoing events, or handling unpredictable situations.\n",
        "\n",
        "- Example: Prompting the User for Correct Password.\n",
        "\n",
        " - Imagine creating a login system where the user must enter the correct password. The number of attempts is unknown, so you need to keep asking for the password until it's correct.\n",
        "\n",
        "In this case, a while loop is ideal because it will keep running as long as the user enters an incorrect password.\n",
        "\n",
        "\n",
        "\n",
        "```\n",
        "correct_password = \"password123\"\n",
        "user_input = \"\"\n",
        "\n",
        "# Keep asking for the password until it's correct\n",
        "while user_input != correct_password:\n",
        "    user_input = input(\"Enter your password: \")\n",
        "    if user_input != correct_password:\n",
        "        print(\"Incorrect password. Try again.\")\n",
        "        \n",
        "print(\"Access granted!\")\n",
        "\n",
        "# output:\n",
        "Enter your password: passcode123\n",
        "Incorrect password. Try again.\n",
        "\n",
        "Enter your password: password123\n",
        "Access granted!\n",
        "```\n",
        "- The while loop continues executing as long as the user_input is not the correct password.\n",
        "- The number of attempts is uncertain, so the loop will run indefinitely until the condition (user_input == correct_password) is satisfied.\n",
        "- Once the user enters the correct password, the loop exits.\n",
        "- since, You can't predict how many attempts the user will need, making a for loop is unsuitable since it requires a predefined number of iterations.\n",
        "The loop should run until a condition is met, which is exactly what a while loop is designed for.Hence, while loop  is more preferable.\n",
        "\n",
        "\n",
        "---\n",
        "\n"
      ],
      "metadata": {
        "id": "OYLj2SeAf-Gk"
      }
    },
    {
      "cell_type": "markdown",
      "source": [
        "#**PRACTICAL QUESTIONS**"
      ],
      "metadata": {
        "id": "ydIGAouUgXKf"
      }
    },
    {
      "cell_type": "markdown",
      "source": [
        "**1. Write a Python program to print \"Hello, World!**"
      ],
      "metadata": {
        "id": "ZjEvKh0QgT0f"
      }
    },
    {
      "cell_type": "code",
      "source": [
        "print(\"Hello World!\")"
      ],
      "metadata": {
        "colab": {
          "base_uri": "https://localhost:8080/"
        },
        "id": "4yzM_DGFovp-",
        "outputId": "4af30bac-a2e5-4c03-817d-5660e070e73f"
      },
      "execution_count": 1,
      "outputs": [
        {
          "output_type": "stream",
          "name": "stdout",
          "text": [
            "Hello World!\n"
          ]
        }
      ]
    },
    {
      "cell_type": "markdown",
      "source": [
        "**2. Write a Python program that displays your name and age.**"
      ],
      "metadata": {
        "id": "rnPmzvKLo1Nq"
      }
    },
    {
      "cell_type": "code",
      "source": [
        "name = input( \"enter your name: \")\n",
        "age = int(input(\"enter your age: \"))\n",
        "print(\"My name is:\", name)\n",
        "print(\"My age is:\",age)"
      ],
      "metadata": {
        "colab": {
          "base_uri": "https://localhost:8080/"
        },
        "id": "fIb_iyPeo_-p",
        "outputId": "f35dde8b-2457-44b2-861d-ce732e82b047"
      },
      "execution_count": 2,
      "outputs": [
        {
          "output_type": "stream",
          "name": "stdout",
          "text": [
            "enter your name: Pinky.S\n",
            "enter your age: 24\n",
            "My name is: Pinky.S\n",
            "My age is: 24\n"
          ]
        }
      ]
    },
    {
      "cell_type": "markdown",
      "source": [
        "**3.Write code to print all the pre-defined keywords in Python using the keyword library.**"
      ],
      "metadata": {
        "id": "IN7WPLsup0dH"
      }
    },
    {
      "cell_type": "code",
      "source": [
        "help(\"keywords\")"
      ],
      "metadata": {
        "colab": {
          "base_uri": "https://localhost:8080/"
        },
        "id": "0GGZ5Bw7p581",
        "outputId": "340cc4a0-305d-4f42-dfcc-cf254a0840c1"
      },
      "execution_count": 6,
      "outputs": [
        {
          "output_type": "stream",
          "name": "stdout",
          "text": [
            "\n",
            "Here is a list of the Python keywords.  Enter any keyword to get more help.\n",
            "\n",
            "False               class               from                or\n",
            "None                continue            global              pass\n",
            "True                def                 if                  raise\n",
            "and                 del                 import              return\n",
            "as                  elif                in                  try\n",
            "assert              else                is                  while\n",
            "async               except              lambda              with\n",
            "await               finally             nonlocal            yield\n",
            "break               for                 not                 \n",
            "\n"
          ]
        }
      ]
    },
    {
      "cell_type": "markdown",
      "source": [
        "**4.Write a program that checks if a given word is a Python keyword.**"
      ],
      "metadata": {
        "id": "49S9-mMiqmxU"
      }
    },
    {
      "cell_type": "code",
      "source": [
        "python_keywords = [\n",
        "    \"False\", \"None\", \"True\", \"and\", \"as\", \"assert\", \"async\", \"await\",\n",
        "    \"break\", \"class\", \"continue\", \"def\", \"del\", \"elif\", \"else\", \"except\",\n",
        "    \"finally\", \"for\", \"from\", \"global\", \"if\", \"import\", \"in\", \"is\", \"lambda\",\n",
        "    \"nonlocal\", \"not\", \"or\", \"pass\", \"raise\", \"return\", \"try\", \"while\", \"with\", \"yield\"\n",
        "]\n",
        "\n",
        "word = input(\"Enter a word to check: \")\n",
        "\n",
        "if word in python_keywords:\n",
        "    print(f\"'{word}' is a Python keyword.\")\n",
        "else:\n",
        "    print(f\"'{word}' is NOT a Python keyword.\")\n"
      ],
      "metadata": {
        "colab": {
          "base_uri": "https://localhost:8080/"
        },
        "id": "K-GwNqvjrCqu",
        "outputId": "c084b4c3-d352-42e3-bba9-428003a7839d"
      },
      "execution_count": 14,
      "outputs": [
        {
          "output_type": "stream",
          "name": "stdout",
          "text": [
            "Enter a word to check: name\n",
            "'name' is NOT a Python keyword.\n"
          ]
        }
      ]
    },
    {
      "cell_type": "markdown",
      "source": [
        "**5.Create a list and tuple in Python, and demonstrate how attempting to change an element works differently for each.**"
      ],
      "metadata": {
        "id": "2bAOX_KvsgAV"
      }
    },
    {
      "cell_type": "code",
      "source": [
        "fruit_list = ['apple',\"pineapple\",\"mango\",\"papaya\"]\n",
        "fruit_list[2] = \"orange\"\n",
        "print(fruit_list) # lists are mutable.\n"
      ],
      "metadata": {
        "colab": {
          "base_uri": "https://localhost:8080/"
        },
        "id": "5yP6P_Ztr8Ak",
        "outputId": "fc670225-646a-4523-96d1-588138f7815e"
      },
      "execution_count": 16,
      "outputs": [
        {
          "output_type": "stream",
          "name": "stdout",
          "text": [
            "['apple', 'pineapple', 'orange', 'papaya']\n"
          ]
        }
      ]
    },
    {
      "cell_type": "code",
      "source": [
        "fruit_tup = (\"apple\",\"pineapple\",\"mango\",\"papaya\")\n",
        "fruit_tup[0] = \"watermelon\" #error since,tuples are immutable."
      ],
      "metadata": {
        "id": "CZ_1qjzTtWqC"
      },
      "execution_count": null,
      "outputs": []
    },
    {
      "cell_type": "markdown",
      "source": [
        "**6.Write a function to demonstrate the behavior of mutable and immutable arguments.**"
      ],
      "metadata": {
        "id": "3KsApW2-tuAk"
      }
    },
    {
      "cell_type": "code",
      "source": [
        "#mutability:\n",
        "fav_no = {1,0,3,2,5,9}\n",
        "fav_no.add(23)\n",
        "print(\"fav_no:\",fav_no) #sets are mutable."
      ],
      "metadata": {
        "colab": {
          "base_uri": "https://localhost:8080/"
        },
        "id": "gBKwlgUPuB6Z",
        "outputId": "42de5119-b030-42ed-8cf6-b53c98c46231"
      },
      "execution_count": 22,
      "outputs": [
        {
          "output_type": "stream",
          "name": "stdout",
          "text": [
            "fav_no: {0, 1, 2, 3, 5, 23, 9}\n"
          ]
        }
      ]
    },
    {
      "cell_type": "code",
      "source": [
        "#immutability:\n",
        "name = \"pinky\"\n",
        "name[4]=\"i\"\n",
        "print(name) #error..since strings donot support item assignment,neither can we add or remove the character inside an orignal string."
      ],
      "metadata": {
        "id": "U-JfW_UKv1V0"
      },
      "execution_count": null,
      "outputs": []
    },
    {
      "cell_type": "markdown",
      "source": [
        "**7.Write a program that performs basic arithmetic operations on two user-input numbers.**"
      ],
      "metadata": {
        "id": "OkvITS-3wbpE"
      }
    },
    {
      "cell_type": "code",
      "source": [
        "a = int(input(\"enter your first num:\"))\n",
        "b = int(input(\"enter your second num:\"))\n",
        "print(\"SUM:\",a+b)\n",
        "print(\"DIFFERENCE:\",a-b)\n",
        "print(\"PRODUCT:\",a*b)\n",
        "print(\"QUOTIENT:\",a/b)\n",
        "print(\"REMAINDER:\",a%b)\n",
        "print(\"EXPONENT:\",a**b)\n",
        "print(\"FLOOR DIVISION:\",a//b)\n",
        "print(\"POWER:\"a**b)"
      ],
      "metadata": {
        "colab": {
          "base_uri": "https://localhost:8080/"
        },
        "id": "tuOo4nKOxd6q",
        "outputId": "5c609482-7c9b-4a29-ff58-e67dc5860250"
      },
      "execution_count": 24,
      "outputs": [
        {
          "output_type": "stream",
          "name": "stdout",
          "text": [
            "enter your first num:2\n",
            "enter your second num:4\n",
            "SUM: 6\n",
            "DIFFERENCE: -2\n",
            "PRODUCT: 8\n",
            "QUOTIENT: 0.5\n",
            "REMAINDER: 2\n",
            "EXPONENT: 16\n"
          ]
        }
      ]
    },
    {
      "cell_type": "markdown",
      "source": [
        "**8.Write a program to demonstrate the use of logical operators.**"
      ],
      "metadata": {
        "id": "TV9Wk9C4ykPz"
      }
    },
    {
      "cell_type": "code",
      "source": [
        "x = 5\n",
        "y = 20\n",
        "print(x<10 and y>10) #Both must be true\n",
        "print(x>10 or y<10) #At least one true\n",
        "print(not(x<10)) #Negates the value"
      ],
      "metadata": {
        "colab": {
          "base_uri": "https://localhost:8080/"
        },
        "id": "_3Z2RzmiyR6J",
        "outputId": "c89ef35e-fba1-4068-ac65-af4575f8b926"
      },
      "execution_count": 28,
      "outputs": [
        {
          "output_type": "stream",
          "name": "stdout",
          "text": [
            "True\n",
            "False\n",
            "False\n"
          ]
        }
      ]
    },
    {
      "cell_type": "markdown",
      "source": [
        "**9. Write a Python program to convert user input from string to integer, float, and boolean types.**"
      ],
      "metadata": {
        "id": "p7aDfJuv0azq"
      }
    },
    {
      "cell_type": "code",
      "source": [
        "n = input(\"enter the value:\")\n",
        "int_value = (int(n))\n",
        "float_value =(float(n))\n",
        "bool_value = (bool(n))\n",
        "print(\"integer value:\",int_value)\n",
        "print(\"float value:\",float_value)\n",
        "print(\"boolean value:\",bool_value)"
      ],
      "metadata": {
        "colab": {
          "base_uri": "https://localhost:8080/"
        },
        "id": "A6OY4KBN1E6I",
        "outputId": "8f534e16-8744-4c1a-cfea-2eba5dfa31fb"
      },
      "execution_count": 6,
      "outputs": [
        {
          "output_type": "stream",
          "name": "stdout",
          "text": [
            "enter the value:23\n",
            "integer value: 23\n",
            "float value: 23.0\n",
            "boolean value: True\n"
          ]
        }
      ]
    },
    {
      "cell_type": "markdown",
      "source": [
        "**10. Write code to demonstrate type casting with list elements.**"
      ],
      "metadata": {
        "id": "Gq7sowo4H5-q"
      }
    },
    {
      "cell_type": "code",
      "source": [
        "my_list = [\"5\", \"10\", \"3.14\"]\n",
        "\n",
        "# Convert each string to number\n",
        "my_list[0] = int(my_list[0])      # \"5\" → 5\n",
        "my_list[1] = int(my_list[1])      # \"10\" → 10\n",
        "my_list[2] = float(my_list[2])    # \"3.14\" → 3.14\n",
        "\n",
        "print(my_list)\n"
      ],
      "metadata": {
        "colab": {
          "base_uri": "https://localhost:8080/"
        },
        "id": "WeOD9hbSIfMm",
        "outputId": "e9b781c7-93b0-404e-c36d-c9c8cabb3af2"
      },
      "execution_count": 8,
      "outputs": [
        {
          "output_type": "stream",
          "name": "stdout",
          "text": [
            "[5, 10, 3.14]\n"
          ]
        }
      ]
    },
    {
      "cell_type": "markdown",
      "source": [
        "**11. Write a program that checks if a number is positive, negative, or zero.**"
      ],
      "metadata": {
        "id": "LE3tDqFpI595"
      }
    },
    {
      "cell_type": "code",
      "source": [
        "num = float(input(\"enter the number:\"))\n",
        "if num >0:\n",
        "  print(\"The number is positive\",num)\n",
        "elif num<0:\n",
        "  print(\"The number is negative\",num)\n",
        "else:\n",
        "  print(\"The number is zero\",num)"
      ],
      "metadata": {
        "colab": {
          "base_uri": "https://localhost:8080/"
        },
        "id": "KtxWgKwQIuCY",
        "outputId": "4b017d5c-c202-4505-e9db-04d026dfa44c"
      },
      "execution_count": 11,
      "outputs": [
        {
          "output_type": "stream",
          "name": "stdout",
          "text": [
            "enter the number:-9\n",
            "The number is negative -9.0\n"
          ]
        }
      ]
    },
    {
      "cell_type": "markdown",
      "source": [
        "**12.Write a for loop to print numbers from 1 to 10.**"
      ],
      "metadata": {
        "id": "oX2D0vJHJlhY"
      }
    },
    {
      "cell_type": "code",
      "source": [
        "for i in range (1,11):\n",
        "    print(i)"
      ],
      "metadata": {
        "colab": {
          "base_uri": "https://localhost:8080/"
        },
        "id": "rHL8XHwoJQx9",
        "outputId": "7a79487c-130f-40cd-8226-e10dee825e90"
      },
      "execution_count": 15,
      "outputs": [
        {
          "output_type": "stream",
          "name": "stdout",
          "text": [
            "1\n",
            "2\n",
            "3\n",
            "4\n",
            "5\n",
            "6\n",
            "7\n",
            "8\n",
            "9\n",
            "10\n"
          ]
        }
      ]
    },
    {
      "cell_type": "markdown",
      "source": [
        "**13. Write a Python program to find the sum of all even numbers between 1 and 50.**"
      ],
      "metadata": {
        "id": "5W3FRQcPKZ4O"
      }
    },
    {
      "cell_type": "code",
      "source": [
        "for i in range(1,51):\n",
        "  if i % 2 == 0:\n",
        "    print(i)"
      ],
      "metadata": {
        "colab": {
          "base_uri": "https://localhost:8080/"
        },
        "id": "WyVNpQ03LaLC",
        "outputId": "c804a3e9-7803-476d-82ef-09387ad67a92"
      },
      "execution_count": 20,
      "outputs": [
        {
          "output_type": "stream",
          "name": "stdout",
          "text": [
            "2\n",
            "4\n",
            "6\n",
            "8\n",
            "10\n",
            "12\n",
            "14\n",
            "16\n",
            "18\n",
            "20\n",
            "22\n",
            "24\n",
            "26\n",
            "28\n",
            "30\n",
            "32\n",
            "34\n",
            "36\n",
            "38\n",
            "40\n",
            "42\n",
            "44\n",
            "46\n",
            "48\n",
            "50\n"
          ]
        }
      ]
    },
    {
      "cell_type": "markdown",
      "source": [
        "**14. Write a program to reverse a string using a while loop.**"
      ],
      "metadata": {
        "id": "13ZD9OV_LzTg"
      }
    },
    {
      "cell_type": "code",
      "source": [
        "s = input(\"Enter a string: \")\n",
        "print(\"Reversed string:\", s[::-1])\n"
      ],
      "metadata": {
        "colab": {
          "base_uri": "https://localhost:8080/"
        },
        "id": "SLfh-sOCLoBT",
        "outputId": "6ca6dff1-5210-486d-8ff6-5dbcd3a437c2"
      },
      "execution_count": 21,
      "outputs": [
        {
          "output_type": "stream",
          "name": "stdout",
          "text": [
            "Enter a string: python\n",
            "Reversed string: nohtyp\n"
          ]
        }
      ]
    },
    {
      "cell_type": "markdown",
      "source": [
        "**15. Write a Python program to calculate the factorial of a number provided by the user using a while loop.**"
      ],
      "metadata": {
        "id": "oxjakGJWMf42"
      }
    },
    {
      "cell_type": "code",
      "source": [
        "n = int(input(\"Enter a number: \"))\n",
        "factorial = 1\n",
        "i = 1\n",
        "while i <= n:\n",
        "    factorial *= i\n",
        "    i += 1\n",
        "print(\"Factorial of\", n, \"is:\", factorial)\n"
      ],
      "metadata": {
        "colab": {
          "base_uri": "https://localhost:8080/"
        },
        "id": "bkgU5ogSNCFo",
        "outputId": "904ad1c8-f78f-4664-869b-a82af6e3428f"
      },
      "execution_count": 24,
      "outputs": [
        {
          "output_type": "stream",
          "name": "stdout",
          "text": [
            "Enter a number: 5\n",
            "Factorial of 5 is: 120\n"
          ]
        }
      ]
    },
    {
      "cell_type": "code",
      "source": [],
      "metadata": {
        "id": "_conQS6eNJrU"
      },
      "execution_count": 24,
      "outputs": []
    }
  ]
}